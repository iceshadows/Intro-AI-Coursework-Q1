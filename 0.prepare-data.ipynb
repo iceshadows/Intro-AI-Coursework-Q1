{
 "cells": [
  {
   "cell_type": "code",
   "execution_count": 1,
   "metadata": {},
   "outputs": [],
   "source": [
    "import pandas as pd\n",
    "from sklearn.preprocessing import MinMaxScaler\n",
    "import numpy as np"
   ]
  },
  {
   "cell_type": "code",
   "execution_count": 2,
   "metadata": {},
   "outputs": [],
   "source": [
    "from tensorflow.keras import Sequential\n",
    "from tensorflow.keras.layers import Dense\n",
    "import tensorflow as tf"
   ]
  },
  {
   "cell_type": "code",
   "execution_count": 21,
   "metadata": {},
   "outputs": [],
   "source": [
    "from tcn import TCN"
   ]
  },
  {
   "cell_type": "code",
   "execution_count": 4,
   "metadata": {},
   "outputs": [],
   "source": [
    "lookback_window = 40"
   ]
  },
  {
   "cell_type": "code",
   "execution_count": 5,
   "metadata": {},
   "outputs": [],
   "source": [
    "df = pd.read_csv(\"coursework_other(1).csv\")"
   ]
  },
  {
   "cell_type": "code",
   "execution_count": 6,
   "metadata": {},
   "outputs": [
    {
     "data": {
      "text/plain": [
       "9568"
      ]
     },
     "execution_count": 6,
     "metadata": {},
     "output_type": "execute_result"
    }
   ],
   "source": [
    "len(df)"
   ]
  },
  {
   "cell_type": "code",
   "execution_count": 7,
   "metadata": {},
   "outputs": [],
   "source": [
    "df = df.dropna()"
   ]
  },
  {
   "cell_type": "code",
   "execution_count": 8,
   "metadata": {},
   "outputs": [
    {
     "data": {
      "text/plain": [
       "9568"
      ]
     },
     "execution_count": 8,
     "metadata": {},
     "output_type": "execute_result"
    }
   ],
   "source": [
    "len(df)"
   ]
  },
  {
   "cell_type": "code",
   "execution_count": 9,
   "metadata": {},
   "outputs": [],
   "source": [
    "X = df.iloc[:,:-1]\n",
    "y = df.iloc[:,-1]"
   ]
  },
  {
   "cell_type": "code",
   "execution_count": 10,
   "metadata": {},
   "outputs": [
    {
     "data": {
      "text/plain": [
       "0       463.26\n",
       "1       444.37\n",
       "2       488.56\n",
       "3       446.48\n",
       "4       473.90\n",
       "         ...  \n",
       "9563    460.03\n",
       "9564    469.62\n",
       "9565    429.57\n",
       "9566    435.74\n",
       "9567    453.28\n",
       "Name: PE, Length: 9568, dtype: float64"
      ]
     },
     "execution_count": 10,
     "metadata": {},
     "output_type": "execute_result"
    }
   ],
   "source": [
    "y"
   ]
  },
  {
   "cell_type": "code",
   "execution_count": 11,
   "metadata": {},
   "outputs": [],
   "source": [
    "x_scaler = MinMaxScaler()\n",
    "X = x_scaler.fit_transform(X)"
   ]
  },
  {
   "cell_type": "code",
   "execution_count": 12,
   "metadata": {},
   "outputs": [],
   "source": [
    "def createXY(X,y,n_splits=2):\n",
    "    dataX = []\n",
    "    dataY = []\n",
    "    for i in range (n_splits,len(X)):\n",
    "        dataX.append(X[i - n_splits:i])\n",
    "        dataY.append(y[i])\n",
    "    return np.array(dataX),np.array(dataY)\n"
   ]
  },
  {
   "cell_type": "code",
   "execution_count": 13,
   "metadata": {},
   "outputs": [],
   "source": [
    "X,y = createXY(X,y,lookback_window)"
   ]
  },
  {
   "cell_type": "code",
   "execution_count": 14,
   "metadata": {},
   "outputs": [
    {
     "data": {
      "text/plain": [
       "array([447.14, 469.18, 482.8 , ..., 429.57, 435.74, 453.28])"
      ]
     },
     "execution_count": 14,
     "metadata": {},
     "output_type": "execute_result"
    }
   ],
   "source": [
    "y"
   ]
  },
  {
   "cell_type": "code",
   "execution_count": 15,
   "metadata": {},
   "outputs": [],
   "source": [
    "y_scaler = MinMaxScaler()\n",
    "y = y_scaler.fit_transform(y.reshape(len(y),1)).reshape(-1)"
   ]
  },
  {
   "cell_type": "code",
   "execution_count": 16,
   "metadata": {},
   "outputs": [
    {
     "data": {
      "text/plain": [
       "array([0.35602649, 0.64794702, 0.82834437, ..., 0.12331126, 0.20503311,\n",
       "       0.43735099])"
      ]
     },
     "execution_count": 16,
     "metadata": {},
     "output_type": "execute_result"
    }
   ],
   "source": [
    "y"
   ]
  },
  {
   "cell_type": "code",
   "execution_count": 17,
   "metadata": {},
   "outputs": [
    {
     "data": {
      "text/plain": [
       "(9528, 40, 4)"
      ]
     },
     "execution_count": 17,
     "metadata": {},
     "output_type": "execute_result"
    }
   ],
   "source": [
    "X.shape"
   ]
  },
  {
   "cell_type": "code",
   "execution_count": 223,
   "metadata": {},
   "outputs": [],
   "source": [
    "model = Sequential([\n",
    "    TCN(input_shape=(lookback_window, 4),\n",
    "        kernel_size=2,\n",
    "        use_skip_connections=False,\n",
    "        use_batch_norm=False,\n",
    "        use_weight_norm=False,\n",
    "        use_layer_norm=False\n",
    "        ),\n",
    "    Dense(1, activation='linear')\n",
    "])"
   ]
  },
  {
   "cell_type": "code",
   "execution_count": 224,
   "metadata": {},
   "outputs": [
    {
     "name": "stdout",
     "output_type": "stream",
     "text": [
      "Model: \"sequential_2\"\n",
      "_________________________________________________________________\n",
      " Layer (type)                Output Shape              Param #   \n",
      "=================================================================\n",
      " tcn_2 (TCN)                 (None, 64)                91712     \n",
      "                                                                 \n",
      " dense_2 (Dense)             (None, 1)                 65        \n",
      "                                                                 \n",
      "=================================================================\n",
      "Total params: 91,777\n",
      "Trainable params: 91,777\n",
      "Non-trainable params: 0\n",
      "_________________________________________________________________\n"
     ]
    }
   ],
   "source": [
    "model.summary()\n",
    "model.compile(optimizer=tf.keras.optimizers.RMSprop(),\n",
    "              loss=tf.keras.losses.MeanSquaredError(),\n",
    "              metrics=[tf.keras.metrics.MeanSquaredError()])"
   ]
  },
  {
   "cell_type": "code",
   "execution_count": 18,
   "metadata": {},
   "outputs": [],
   "source": [
    "from sklearn.model_selection import train_test_split"
   ]
  },
  {
   "cell_type": "code",
   "execution_count": 19,
   "metadata": {},
   "outputs": [],
   "source": [
    "X_train,X_test,y_train,y_test = train_test_split(X,y,test_size=0.2)"
   ]
  },
  {
   "cell_type": "code",
   "execution_count": 227,
   "metadata": {},
   "outputs": [
    {
     "name": "stdout",
     "output_type": "stream",
     "text": [
      "Train...\n",
      "Epoch 1/100\n",
      "239/239 [==============================] - 5s 13ms/step - loss: 2.5431 - mean_squared_error: 2.5431 - val_loss: 0.0801 - val_mean_squared_error: 0.0801\n",
      "Epoch 2/100\n",
      "239/239 [==============================] - 3s 12ms/step - loss: 0.0817 - mean_squared_error: 0.0817 - val_loss: 0.0568 - val_mean_squared_error: 0.0568\n",
      "Epoch 3/100\n",
      "239/239 [==============================] - 3s 11ms/step - loss: 0.0627 - mean_squared_error: 0.0627 - val_loss: 0.0595 - val_mean_squared_error: 0.0595\n",
      "Epoch 4/100\n",
      "239/239 [==============================] - 3s 12ms/step - loss: 0.0583 - mean_squared_error: 0.0583 - val_loss: 0.0651 - val_mean_squared_error: 0.0651\n",
      "Epoch 5/100\n",
      "239/239 [==============================] - 3s 11ms/step - loss: 0.0566 - mean_squared_error: 0.0566 - val_loss: 0.0537 - val_mean_squared_error: 0.0537\n",
      "Epoch 6/100\n",
      "239/239 [==============================] - 3s 11ms/step - loss: 0.0550 - mean_squared_error: 0.0550 - val_loss: 0.0576 - val_mean_squared_error: 0.0576\n",
      "Epoch 7/100\n",
      "239/239 [==============================] - 3s 11ms/step - loss: 0.0545 - mean_squared_error: 0.0545 - val_loss: 0.0566 - val_mean_squared_error: 0.0566\n",
      "Epoch 8/100\n",
      "239/239 [==============================] - 3s 11ms/step - loss: 0.0534 - mean_squared_error: 0.0534 - val_loss: 0.0531 - val_mean_squared_error: 0.0531\n",
      "Epoch 9/100\n",
      "239/239 [==============================] - 3s 11ms/step - loss: 0.0530 - mean_squared_error: 0.0530 - val_loss: 0.0699 - val_mean_squared_error: 0.0699\n",
      "Epoch 10/100\n",
      "239/239 [==============================] - 3s 11ms/step - loss: 0.0528 - mean_squared_error: 0.0528 - val_loss: 0.0538 - val_mean_squared_error: 0.0538\n",
      "Epoch 11/100\n",
      "239/239 [==============================] - 3s 11ms/step - loss: 0.0528 - mean_squared_error: 0.0528 - val_loss: 0.0533 - val_mean_squared_error: 0.0533\n",
      "Epoch 12/100\n",
      "239/239 [==============================] - 3s 12ms/step - loss: 0.0523 - mean_squared_error: 0.0523 - val_loss: 0.0707 - val_mean_squared_error: 0.0707\n",
      "Epoch 13/100\n",
      "239/239 [==============================] - 3s 11ms/step - loss: 0.0523 - mean_squared_error: 0.0523 - val_loss: 0.0540 - val_mean_squared_error: 0.0540\n",
      "Epoch 14/100\n",
      "239/239 [==============================] - 3s 12ms/step - loss: 0.0516 - mean_squared_error: 0.0516 - val_loss: 0.0596 - val_mean_squared_error: 0.0596\n",
      "Epoch 15/100\n",
      "239/239 [==============================] - 3s 11ms/step - loss: 0.0514 - mean_squared_error: 0.0514 - val_loss: 0.0593 - val_mean_squared_error: 0.0593\n",
      "Epoch 16/100\n",
      "239/239 [==============================] - 3s 11ms/step - loss: 0.0516 - mean_squared_error: 0.0516 - val_loss: 0.0562 - val_mean_squared_error: 0.0562\n",
      "Epoch 17/100\n",
      "239/239 [==============================] - 3s 11ms/step - loss: 0.0511 - mean_squared_error: 0.0511 - val_loss: 0.0551 - val_mean_squared_error: 0.0551\n",
      "Epoch 18/100\n",
      "239/239 [==============================] - 3s 11ms/step - loss: 0.0507 - mean_squared_error: 0.0507 - val_loss: 0.0568 - val_mean_squared_error: 0.0568\n",
      "Epoch 19/100\n",
      "239/239 [==============================] - 3s 11ms/step - loss: 0.0502 - mean_squared_error: 0.0502 - val_loss: 0.0554 - val_mean_squared_error: 0.0554\n",
      "Epoch 20/100\n",
      "239/239 [==============================] - 3s 11ms/step - loss: 0.0500 - mean_squared_error: 0.0500 - val_loss: 0.0539 - val_mean_squared_error: 0.0539\n",
      "Epoch 21/100\n",
      "239/239 [==============================] - 3s 11ms/step - loss: 0.0491 - mean_squared_error: 0.0491 - val_loss: 0.0580 - val_mean_squared_error: 0.0580\n",
      "Epoch 22/100\n",
      "239/239 [==============================] - 3s 11ms/step - loss: 0.0492 - mean_squared_error: 0.0492 - val_loss: 0.0597 - val_mean_squared_error: 0.0597\n",
      "Epoch 23/100\n",
      "239/239 [==============================] - 3s 11ms/step - loss: 0.0486 - mean_squared_error: 0.0486 - val_loss: 0.0605 - val_mean_squared_error: 0.0605\n",
      "Epoch 24/100\n",
      "239/239 [==============================] - 3s 11ms/step - loss: 0.0484 - mean_squared_error: 0.0484 - val_loss: 0.0619 - val_mean_squared_error: 0.0619\n",
      "Epoch 25/100\n",
      "239/239 [==============================] - 3s 11ms/step - loss: 0.0475 - mean_squared_error: 0.0475 - val_loss: 0.0677 - val_mean_squared_error: 0.0677\n",
      "Epoch 26/100\n",
      "239/239 [==============================] - 3s 11ms/step - loss: 0.0468 - mean_squared_error: 0.0468 - val_loss: 0.0582 - val_mean_squared_error: 0.0582\n",
      "Epoch 27/100\n",
      "239/239 [==============================] - 3s 11ms/step - loss: 0.0461 - mean_squared_error: 0.0461 - val_loss: 0.0578 - val_mean_squared_error: 0.0578\n",
      "Epoch 28/100\n",
      "239/239 [==============================] - 3s 11ms/step - loss: 0.0455 - mean_squared_error: 0.0455 - val_loss: 0.0742 - val_mean_squared_error: 0.0742\n",
      "Epoch 29/100\n",
      "239/239 [==============================] - 3s 11ms/step - loss: 0.0446 - mean_squared_error: 0.0446 - val_loss: 0.0585 - val_mean_squared_error: 0.0585\n",
      "Epoch 30/100\n",
      "239/239 [==============================] - 3s 11ms/step - loss: 0.0439 - mean_squared_error: 0.0439 - val_loss: 0.0625 - val_mean_squared_error: 0.0625\n",
      "Epoch 31/100\n",
      "239/239 [==============================] - 3s 11ms/step - loss: 0.0431 - mean_squared_error: 0.0431 - val_loss: 0.0586 - val_mean_squared_error: 0.0586\n",
      "Epoch 32/100\n",
      "239/239 [==============================] - 3s 11ms/step - loss: 0.0411 - mean_squared_error: 0.0411 - val_loss: 0.0717 - val_mean_squared_error: 0.0717\n",
      "Epoch 33/100\n",
      "239/239 [==============================] - 3s 11ms/step - loss: 0.0401 - mean_squared_error: 0.0401 - val_loss: 0.0713 - val_mean_squared_error: 0.0713\n",
      "Epoch 34/100\n",
      "239/239 [==============================] - 3s 11ms/step - loss: 0.0391 - mean_squared_error: 0.0391 - val_loss: 0.0632 - val_mean_squared_error: 0.0632\n",
      "Epoch 35/100\n",
      "239/239 [==============================] - 3s 11ms/step - loss: 0.0378 - mean_squared_error: 0.0378 - val_loss: 0.0775 - val_mean_squared_error: 0.0775\n",
      "Epoch 36/100\n",
      "239/239 [==============================] - 3s 11ms/step - loss: 0.0368 - mean_squared_error: 0.0368 - val_loss: 0.0629 - val_mean_squared_error: 0.0629\n",
      "Epoch 37/100\n",
      "239/239 [==============================] - 3s 11ms/step - loss: 0.0350 - mean_squared_error: 0.0350 - val_loss: 0.0911 - val_mean_squared_error: 0.0911\n",
      "Epoch 38/100\n",
      "239/239 [==============================] - 3s 11ms/step - loss: 0.0335 - mean_squared_error: 0.0335 - val_loss: 0.0673 - val_mean_squared_error: 0.0673\n",
      "Epoch 39/100\n",
      "239/239 [==============================] - 3s 11ms/step - loss: 0.0326 - mean_squared_error: 0.0326 - val_loss: 0.0693 - val_mean_squared_error: 0.0693\n",
      "Epoch 40/100\n",
      "239/239 [==============================] - 3s 11ms/step - loss: 0.0307 - mean_squared_error: 0.0307 - val_loss: 0.0736 - val_mean_squared_error: 0.0736\n",
      "Epoch 41/100\n",
      "239/239 [==============================] - 3s 11ms/step - loss: 0.0299 - mean_squared_error: 0.0299 - val_loss: 0.0838 - val_mean_squared_error: 0.0838\n",
      "Epoch 42/100\n",
      "239/239 [==============================] - 3s 11ms/step - loss: 0.0280 - mean_squared_error: 0.0280 - val_loss: 0.0699 - val_mean_squared_error: 0.0699\n",
      "Epoch 43/100\n",
      "239/239 [==============================] - 3s 13ms/step - loss: 0.0270 - mean_squared_error: 0.0270 - val_loss: 0.0769 - val_mean_squared_error: 0.0769\n",
      "Epoch 44/100\n",
      "239/239 [==============================] - 3s 11ms/step - loss: 0.0254 - mean_squared_error: 0.0254 - val_loss: 0.0800 - val_mean_squared_error: 0.0800\n",
      "Epoch 45/100\n",
      "239/239 [==============================] - 3s 11ms/step - loss: 0.0242 - mean_squared_error: 0.0242 - val_loss: 0.0728 - val_mean_squared_error: 0.0728\n",
      "Epoch 46/100\n",
      "239/239 [==============================] - 2s 10ms/step - loss: 0.0233 - mean_squared_error: 0.0233 - val_loss: 0.0793 - val_mean_squared_error: 0.0793\n",
      "Epoch 47/100\n",
      "239/239 [==============================] - 3s 11ms/step - loss: 0.0219 - mean_squared_error: 0.0219 - val_loss: 0.0804 - val_mean_squared_error: 0.0804\n",
      "Epoch 48/100\n",
      "239/239 [==============================] - 3s 11ms/step - loss: 0.0203 - mean_squared_error: 0.0203 - val_loss: 0.0786 - val_mean_squared_error: 0.0786\n",
      "Epoch 49/100\n",
      "239/239 [==============================] - 2s 10ms/step - loss: 0.0193 - mean_squared_error: 0.0193 - val_loss: 0.0785 - val_mean_squared_error: 0.0785\n",
      "Epoch 50/100\n",
      "239/239 [==============================] - 3s 11ms/step - loss: 0.0183 - mean_squared_error: 0.0183 - val_loss: 0.0802 - val_mean_squared_error: 0.0802\n",
      "Epoch 51/100\n",
      "239/239 [==============================] - 3s 11ms/step - loss: 0.0171 - mean_squared_error: 0.0171 - val_loss: 0.0865 - val_mean_squared_error: 0.0865\n",
      "Epoch 52/100\n",
      "239/239 [==============================] - 2s 10ms/step - loss: 0.0165 - mean_squared_error: 0.0165 - val_loss: 0.0802 - val_mean_squared_error: 0.0802\n",
      "Epoch 53/100\n",
      "239/239 [==============================] - 3s 11ms/step - loss: 0.0159 - mean_squared_error: 0.0159 - val_loss: 0.0898 - val_mean_squared_error: 0.0898\n",
      "Epoch 54/100\n",
      "239/239 [==============================] - 2s 10ms/step - loss: 0.0149 - mean_squared_error: 0.0149 - val_loss: 0.0817 - val_mean_squared_error: 0.0817\n",
      "Epoch 55/100\n",
      "239/239 [==============================] - 2s 10ms/step - loss: 0.0143 - mean_squared_error: 0.0143 - val_loss: 0.0852 - val_mean_squared_error: 0.0852\n",
      "Epoch 56/100\n",
      "239/239 [==============================] - 3s 11ms/step - loss: 0.0132 - mean_squared_error: 0.0132 - val_loss: 0.0852 - val_mean_squared_error: 0.0852\n",
      "Epoch 57/100\n",
      "239/239 [==============================] - 2s 10ms/step - loss: 0.0132 - mean_squared_error: 0.0132 - val_loss: 0.0863 - val_mean_squared_error: 0.0863\n",
      "Epoch 58/100\n",
      "239/239 [==============================] - 3s 11ms/step - loss: 0.0122 - mean_squared_error: 0.0122 - val_loss: 0.0834 - val_mean_squared_error: 0.0834\n",
      "Epoch 59/100\n",
      "239/239 [==============================] - 3s 11ms/step - loss: 0.0115 - mean_squared_error: 0.0115 - val_loss: 0.1024 - val_mean_squared_error: 0.1024\n",
      "Epoch 60/100\n",
      "239/239 [==============================] - 3s 11ms/step - loss: 0.0110 - mean_squared_error: 0.0110 - val_loss: 0.0815 - val_mean_squared_error: 0.0815\n",
      "Epoch 61/100\n",
      "239/239 [==============================] - 3s 11ms/step - loss: 0.0105 - mean_squared_error: 0.0105 - val_loss: 0.0935 - val_mean_squared_error: 0.0935\n",
      "Epoch 62/100\n",
      "239/239 [==============================] - 2s 10ms/step - loss: 0.0102 - mean_squared_error: 0.0102 - val_loss: 0.0861 - val_mean_squared_error: 0.0861\n",
      "Epoch 63/100\n",
      "239/239 [==============================] - 2s 10ms/step - loss: 0.0098 - mean_squared_error: 0.0098 - val_loss: 0.0850 - val_mean_squared_error: 0.0850\n",
      "Epoch 64/100\n",
      "239/239 [==============================] - 3s 11ms/step - loss: 0.0094 - mean_squared_error: 0.0094 - val_loss: 0.0836 - val_mean_squared_error: 0.0836\n",
      "Epoch 65/100\n",
      "239/239 [==============================] - 2s 10ms/step - loss: 0.0088 - mean_squared_error: 0.0088 - val_loss: 0.0858 - val_mean_squared_error: 0.0858\n",
      "Epoch 66/100\n",
      "239/239 [==============================] - 3s 10ms/step - loss: 0.0087 - mean_squared_error: 0.0087 - val_loss: 0.0996 - val_mean_squared_error: 0.0996\n",
      "Epoch 67/100\n",
      "239/239 [==============================] - 2s 10ms/step - loss: 0.0082 - mean_squared_error: 0.0082 - val_loss: 0.0840 - val_mean_squared_error: 0.0840\n",
      "Epoch 68/100\n",
      "239/239 [==============================] - 2s 10ms/step - loss: 0.0079 - mean_squared_error: 0.0079 - val_loss: 0.0880 - val_mean_squared_error: 0.0880\n",
      "Epoch 69/100\n",
      "239/239 [==============================] - 3s 11ms/step - loss: 0.0078 - mean_squared_error: 0.0078 - val_loss: 0.0827 - val_mean_squared_error: 0.0827\n",
      "Epoch 70/100\n",
      "239/239 [==============================] - 2s 10ms/step - loss: 0.0076 - mean_squared_error: 0.0076 - val_loss: 0.0870 - val_mean_squared_error: 0.0870\n",
      "Epoch 71/100\n",
      "239/239 [==============================] - 2s 10ms/step - loss: 0.0072 - mean_squared_error: 0.0072 - val_loss: 0.0861 - val_mean_squared_error: 0.0861\n",
      "Epoch 72/100\n",
      "239/239 [==============================] - 3s 11ms/step - loss: 0.0071 - mean_squared_error: 0.0071 - val_loss: 0.0873 - val_mean_squared_error: 0.0873\n",
      "Epoch 73/100\n",
      "239/239 [==============================] - 3s 11ms/step - loss: 0.0070 - mean_squared_error: 0.0070 - val_loss: 0.0877 - val_mean_squared_error: 0.0877\n",
      "Epoch 74/100\n",
      "239/239 [==============================] - 3s 11ms/step - loss: 0.0068 - mean_squared_error: 0.0068 - val_loss: 0.0933 - val_mean_squared_error: 0.0933\n",
      "Epoch 75/100\n",
      "239/239 [==============================] - 3s 11ms/step - loss: 0.0069 - mean_squared_error: 0.0069 - val_loss: 0.0849 - val_mean_squared_error: 0.0849\n",
      "Epoch 76/100\n",
      "239/239 [==============================] - 2s 10ms/step - loss: 0.0065 - mean_squared_error: 0.0065 - val_loss: 0.0861 - val_mean_squared_error: 0.0861\n",
      "Epoch 77/100\n",
      "239/239 [==============================] - 3s 11ms/step - loss: 0.0065 - mean_squared_error: 0.0065 - val_loss: 0.0848 - val_mean_squared_error: 0.0848\n",
      "Epoch 78/100\n",
      "239/239 [==============================] - 3s 11ms/step - loss: 0.0061 - mean_squared_error: 0.0061 - val_loss: 0.0846 - val_mean_squared_error: 0.0846\n",
      "Epoch 79/100\n",
      "239/239 [==============================] - 3s 11ms/step - loss: 0.0060 - mean_squared_error: 0.0060 - val_loss: 0.0874 - val_mean_squared_error: 0.0874\n",
      "Epoch 80/100\n",
      "239/239 [==============================] - 3s 11ms/step - loss: 0.0060 - mean_squared_error: 0.0060 - val_loss: 0.0852 - val_mean_squared_error: 0.0852\n",
      "Epoch 81/100\n",
      "239/239 [==============================] - 2s 10ms/step - loss: 0.0059 - mean_squared_error: 0.0059 - val_loss: 0.0858 - val_mean_squared_error: 0.0858\n",
      "Epoch 82/100\n",
      "239/239 [==============================] - 3s 11ms/step - loss: 0.0057 - mean_squared_error: 0.0057 - val_loss: 0.0904 - val_mean_squared_error: 0.0904\n",
      "Epoch 83/100\n",
      "239/239 [==============================] - 3s 11ms/step - loss: 0.0055 - mean_squared_error: 0.0055 - val_loss: 0.0844 - val_mean_squared_error: 0.0844\n",
      "Epoch 84/100\n",
      "239/239 [==============================] - 3s 10ms/step - loss: 0.0055 - mean_squared_error: 0.0055 - val_loss: 0.0863 - val_mean_squared_error: 0.0863\n",
      "Epoch 85/100\n",
      "239/239 [==============================] - 3s 11ms/step - loss: 0.0056 - mean_squared_error: 0.0056 - val_loss: 0.0832 - val_mean_squared_error: 0.0832\n",
      "Epoch 86/100\n",
      "239/239 [==============================] - 2s 10ms/step - loss: 0.0053 - mean_squared_error: 0.0053 - val_loss: 0.0871 - val_mean_squared_error: 0.0871\n",
      "Epoch 87/100\n",
      "239/239 [==============================] - 3s 11ms/step - loss: 0.0053 - mean_squared_error: 0.0053 - val_loss: 0.0856 - val_mean_squared_error: 0.0856\n",
      "Epoch 88/100\n",
      "239/239 [==============================] - 3s 11ms/step - loss: 0.0052 - mean_squared_error: 0.0052 - val_loss: 0.0877 - val_mean_squared_error: 0.0877\n",
      "Epoch 89/100\n",
      "239/239 [==============================] - 3s 11ms/step - loss: 0.0051 - mean_squared_error: 0.0051 - val_loss: 0.0796 - val_mean_squared_error: 0.0796\n",
      "Epoch 90/100\n",
      "239/239 [==============================] - 3s 12ms/step - loss: 0.0050 - mean_squared_error: 0.0050 - val_loss: 0.0837 - val_mean_squared_error: 0.0837\n",
      "Epoch 91/100\n",
      "239/239 [==============================] - 3s 11ms/step - loss: 0.0049 - mean_squared_error: 0.0049 - val_loss: 0.0822 - val_mean_squared_error: 0.0822\n",
      "Epoch 92/100\n",
      "239/239 [==============================] - 3s 11ms/step - loss: 0.0048 - mean_squared_error: 0.0048 - val_loss: 0.0888 - val_mean_squared_error: 0.0888\n",
      "Epoch 93/100\n",
      "239/239 [==============================] - 3s 11ms/step - loss: 0.0048 - mean_squared_error: 0.0048 - val_loss: 0.0868 - val_mean_squared_error: 0.0868\n",
      "Epoch 94/100\n",
      "239/239 [==============================] - 3s 11ms/step - loss: 0.0046 - mean_squared_error: 0.0046 - val_loss: 0.0806 - val_mean_squared_error: 0.0806\n",
      "Epoch 95/100\n",
      "239/239 [==============================] - 3s 11ms/step - loss: 0.0046 - mean_squared_error: 0.0046 - val_loss: 0.0823 - val_mean_squared_error: 0.0823\n",
      "Epoch 96/100\n",
      "239/239 [==============================] - 2s 10ms/step - loss: 0.0046 - mean_squared_error: 0.0046 - val_loss: 0.0820 - val_mean_squared_error: 0.0820\n",
      "Epoch 97/100\n",
      "239/239 [==============================] - 2s 10ms/step - loss: 0.0044 - mean_squared_error: 0.0044 - val_loss: 0.0818 - val_mean_squared_error: 0.0818\n",
      "Epoch 98/100\n",
      "239/239 [==============================] - 3s 11ms/step - loss: 0.0043 - mean_squared_error: 0.0043 - val_loss: 0.0824 - val_mean_squared_error: 0.0824\n",
      "Epoch 99/100\n",
      "239/239 [==============================] - 2s 10ms/step - loss: 0.0043 - mean_squared_error: 0.0043 - val_loss: 0.0886 - val_mean_squared_error: 0.0886\n",
      "Epoch 100/100\n",
      "239/239 [==============================] - 3s 11ms/step - loss: 0.0043 - mean_squared_error: 0.0043 - val_loss: 0.0830 - val_mean_squared_error: 0.0830\n"
     ]
    },
    {
     "data": {
      "text/plain": [
       "<keras.callbacks.History at 0x1a3a5cd11b0>"
      ]
     },
     "execution_count": 227,
     "metadata": {},
     "output_type": "execute_result"
    }
   ],
   "source": [
    "print('Train...')\n",
    "model.fit(X_train, y_train,validation_data=(X_test, y_test), epochs=100)"
   ]
  },
  {
   "cell_type": "code",
   "execution_count": 229,
   "metadata": {},
   "outputs": [],
   "source": [
    "model.save(\"tcn_b.h5\")"
   ]
  },
  {
   "cell_type": "code",
   "execution_count": 23,
   "metadata": {},
   "outputs": [],
   "source": [
    "model = tf.keras.models.load_model(\"tcn_b.h5\",custom_objects={\"TCN\":TCN})"
   ]
  },
  {
   "cell_type": "code",
   "execution_count": 24,
   "metadata": {},
   "outputs": [],
   "source": [
    "from sklearn.metrics import mean_absolute_error,mean_squared_error"
   ]
  },
  {
   "cell_type": "code",
   "execution_count": 25,
   "metadata": {},
   "outputs": [
    {
     "name": "stdout",
     "output_type": "stream",
     "text": [
      "60/60 [==============================] - 4s 4ms/step\n"
     ]
    }
   ],
   "source": [
    "y_pred = model.predict(X_test)"
   ]
  },
  {
   "cell_type": "code",
   "execution_count": 26,
   "metadata": {},
   "outputs": [
    {
     "data": {
      "text/plain": [
       "0.022291394998818298"
      ]
     },
     "execution_count": 26,
     "metadata": {},
     "output_type": "execute_result"
    }
   ],
   "source": [
    "mean_squared_error(y_pred=y_pred,y_true=y_test)"
   ]
  },
  {
   "cell_type": "code",
   "execution_count": null,
   "metadata": {},
   "outputs": [],
   "source": []
  }
 ],
 "metadata": {
  "kernelspec": {
   "display_name": "tensorflow",
   "language": "python",
   "name": "python3"
  },
  "language_info": {
   "codemirror_mode": {
    "name": "ipython",
    "version": 3
   },
   "file_extension": ".py",
   "mimetype": "text/x-python",
   "name": "python",
   "nbconvert_exporter": "python",
   "pygments_lexer": "ipython3",
   "version": "3.10.11"
  },
  "orig_nbformat": 4
 },
 "nbformat": 4,
 "nbformat_minor": 2
}
